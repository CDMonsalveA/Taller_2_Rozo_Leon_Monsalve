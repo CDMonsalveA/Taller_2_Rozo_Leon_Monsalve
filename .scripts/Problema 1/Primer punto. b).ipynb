{
  "cells": [
    {
      "cell_type": "code",
      "execution_count": 8,
      "metadata": {
        "colab": {
          "base_uri": "https://localhost:8080/"
        },
        "id": "8WEz1R-cIeaP",
        "outputId": "2a5477eb-b1bd-4eac-e0b5-6069ac9cc9b2"
      },
      "outputs": [
        {
          "name": "stdout",
          "output_type": "stream",
          "text": [
            "Requirement already satisfied: pulp in c:\\users\\rozor\\appdata\\local\\packages\\pythonsoftwarefoundation.python.3.11_qbz5n2kfra8p0\\localcache\\local-packages\\python311\\site-packages (2.7.0)\n"
          ]
        }
      ],
      "source": [
        "!pip install pulp"
      ]
    },
    {
      "cell_type": "code",
      "execution_count": 9,
      "metadata": {
        "id": "XlrHmcIzI1UZ"
      },
      "outputs": [],
      "source": [
        "import numpy as np\n",
        "import pandas as pd\n",
        "from pulp import *"
      ]
    },
    {
      "cell_type": "code",
      "execution_count": 10,
      "metadata": {
        "id": "7KG8UNGxI2p5"
      },
      "outputs": [],
      "source": [
        "J=['J1','J2','J3','J4','J5','J6','J7','J8','J9','J10','J11','J12','J13','J14','J15','J16','J17','J18','J19']\n",
        "pj=[15, 14, 15, 4, 13, 8, 16, 8, 12, 5, 14, 12, 16, 6, 4, 16, 8, 11, 3]\n",
        "dj=[8, 4, 7, 5, 15, 12, 3, 7, 15, 6, 9, 17, 14, 5, 20, 14, 8, 16, 16]\n",
        "p=makeDict([J],pj)\n",
        "d=makeDict([J],dj)\n"
      ]
    },
    {
      "cell_type": "code",
      "execution_count": 11,
      "metadata": {
        "colab": {
          "base_uri": "https://localhost:8080/"
        },
        "id": "XdCDnw25JJhI",
        "outputId": "5040c79e-0c06-4a4c-a9e5-6b7d2574a599"
      },
      "outputs": [
        {
          "name": "stdout",
          "output_type": "stream",
          "text": [
            "Tmax= 185.0\n",
            "Secuencia\n",
            "J18\n",
            "J17\n",
            "J19\n",
            "J16\n",
            "J14\n",
            "J15\n",
            "J13\n",
            "J11\n",
            "J10\n",
            "J12\n",
            "J6\n",
            "J8\n",
            "J1\n",
            "J9\n",
            "J4\n",
            "J7\n",
            "J3\n",
            "J2\n",
            "J5\n"
          ]
        }
      ],
      "source": [
        "problema=LpProblem('Lawler',LpMinimize)\n",
        "X=LpVariable.dicts('X',((j) for j in J),lowBound=0,cat='Trabajos')\n",
        "Y=LpVariable.dicts('Y',((i,j) for i in J for j in J),lowBound=0,upBound=1,cat='Binary')\n",
        "Tmax=LpVariable('Tmax',cat='Trabajos')\n",
        "\n",
        "DG=1000\n",
        "for i in J:\n",
        "  for j in J:\n",
        "    if(j!=i):\n",
        "      problema+=X[i]+p[i]<=X[j]+DG*(1-Y[i,j])\n",
        "      problema+=X[j]+p[j]<=X[i]+DG*(Y[i,j]) \n",
        "problema+=X['J19']+p['J19']<=X['J16']\n",
        "problema+=X['J18']+p['J18']<=X['J16']\n",
        "problema+=X['J17']+p['J17']<=X['J16']\n",
        "problema+=X['J16']+p['J16']<=X['J15']\n",
        "problema+=X['J16']+p['J16']<=X['J14']\n",
        "problema+=X['J14']+p['J14']<=X['J13']\n",
        "problema+=X['J15']+p['J15']<=X['J13']\n",
        "problema+=X['J13']+p['J13']<=X['J12']\n",
        "problema+=X['J13']+p['J13']<=X['J11']\n",
        "problema+=X['J13']+p['J13']<=X['J10']\n",
        "problema+=X['J12']+p['J12']<=X['J9']\n",
        "problema+=X['J11']+p['J11']<=X['J9']\n",
        "problema+=X['J10']+p['J10']<=X['J9']\n",
        "problema+=X['J19']+p['J19']<=X['J8']\n",
        "problema+=X['J12']+p['J12']<=X['J8']\n",
        "problema+=X['J9']+p['J9']<=X['J7']\n",
        "problema+=X['J17']+p['J17']<=X['J6']\n",
        "problema+=X['J8']+p['J8']<=X['J4']\n",
        "problema+=X['J7']+p['J7']<=X['J3']\n",
        "problema+=X['J7']+p['J7']<=X['J2']\n",
        "problema+=X['J8']+p['J8']<=X['J2']\n",
        "problema+=X['J6']+p['J6']<=X['J2']\n",
        "problema+=X['J6']+p['J6']<=X['J1']\n",
        "problema+=X['J1']+p['J1']<=X['J5']\n",
        "problema+=X['J2']+p['J2']<=X['J5']\n",
        "problema+=X['J3']+p['J3']<=X['J5']\n",
        "problema+=X['J4']+p['J4']<=X['J5']\n",
        "\n",
        "for j in J:\n",
        "  problema+=X[j]+p[j]-d[j]<=Tmax\n",
        "problema+=Tmax\n",
        "problema.writeLP(' prueba')\n",
        "problema.solve()\n",
        "print(\"Tmax=\",value(problema.objective))\n",
        "import operator\n",
        "Sol=makeDict([J],(value(X[j])for j in J))\n",
        "Sol=sorted(Sol.items(),key=operator.itemgetter(1), reverse=False)\n",
        "Sol=list(map(list,Sol))\n",
        "print(\"Secuencia\")\n",
        "for j in range(len(Sol)):\n",
        "  for h in range(len(Sol[j])-1):\n",
        "    print(Sol[j][h])\n"
      ]
    },
    {
      "cell_type": "code",
      "execution_count": null,
      "metadata": {
        "id": "xKzPuORUKGeA"
      },
      "outputs": [],
      "source": []
    }
  ],
  "metadata": {
    "colab": {
      "provenance": []
    },
    "kernelspec": {
      "display_name": "Python 3",
      "name": "python3"
    },
    "language_info": {
      "codemirror_mode": {
        "name": "ipython",
        "version": 3
      },
      "file_extension": ".py",
      "mimetype": "text/x-python",
      "name": "python",
      "nbconvert_exporter": "python",
      "pygments_lexer": "ipython3",
      "version": "3.11.2"
    }
  },
  "nbformat": 4,
  "nbformat_minor": 0
}
