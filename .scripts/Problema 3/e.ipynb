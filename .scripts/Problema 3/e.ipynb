{
 "cells": [
  {
   "cell_type": "code",
   "execution_count": 1,
   "metadata": {},
   "outputs": [
    {
     "name": "stdout",
     "output_type": "stream",
     "text": [
      "Requirement already satisfied: pulp in c:\\users\\home\\appdata\\local\\packages\\pythonsoftwarefoundation.python.3.11_qbz5n2kfra8p0\\localcache\\local-packages\\python311\\site-packages (2.7.0)Note: you may need to restart the kernel to use updated packages.\n",
      "\n"
     ]
    }
   ],
   "source": [
    "%pip install pulp"
   ]
  },
  {
   "cell_type": "code",
   "execution_count": 2,
   "metadata": {},
   "outputs": [],
   "source": [
    "from pulp import *\n",
    "# Definimos el problema\n",
    "# Jobshop para 7 máquina y 5 trabajos\n",
    "J=['J1','J2','J3','J4','J5']\n",
    "M=['M1','M2','M3','M4','M5','M6','M7']\n",
    "O=[['M1','M2','M4','M5','M6','M7'],\n",
    "   ['M6','M3','M5','M7','M2','M1'],\n",
    "   ['M3','M7','M6','M1','M5','M4'],\n",
    "   ['M5','M2','M7','M4','M1','M6'],\n",
    "   ['M7','M1','M5','M3','M4','M2']]\n",
    "# Tiempos de procesamiento [horas]\n",
    "p=[[12,8,0,18,7,12,12],\n",
    "   [16,11,6,0,14,9,6],\n",
    "   [3,0,12,14,8,14,14],\n",
    "   [15,13,0,8,9,15,16],\n",
    "   [10,15,19,6,13,0,11]]\n",
    "# due dates [horas]\n",
    "d=[[54],[78],[54],[85],[90]]\n",
    "# Creación de diccionarios\n",
    "d=makeDict([J],d) \n",
    "p=makeDict([J,M],p)\n",
    "O=makeDict([J,range(6)],O)"
   ]
  },
  {
   "cell_type": "code",
   "execution_count": 3,
   "metadata": {},
   "outputs": [
    {
     "name": "stdout",
     "output_type": "stream",
     "text": [
      "Máxima Anticipación =  0.0\n",
      "J1 . M1 . -21.0\n",
      "J1 . M2 . 10.0\n",
      "J1 . M4 . 28.0\n",
      "J1 . M5 . 35.0\n",
      "J1 . M6 . 57.0\n",
      "J1 . M7 . 69.0\n",
      "J2 . M6 . -69.0\n",
      "J2 . M3 . -60.0\n",
      "J2 . M5 . -21.0\n",
      "J2 . M7 . -14.0\n",
      "J2 . M2 . -3.0\n",
      "J2 . M1 . 18.0\n",
      "J3 . M3 . -42.0\n",
      "J3 . M7 . -28.0\n",
      "J3 . M6 . -14.0\n",
      "J3 . M1 . -11.0\n",
      "J3 . M5 . 28.0\n",
      "J3 . M4 . 56.0\n",
      "J4 . M5 . -42.0\n",
      "J4 . M2 . -29.0\n",
      "J4 . M7 . -5.0\n",
      "J4 . M4 . 11.0\n",
      "J4 . M1 . 26.0\n",
      "J4 . M6 . 41.0\n",
      "J5 . M7 . -79.0\n",
      "J5 . M1 . -69.0\n",
      "J5 . M5 . -56.0\n",
      "J5 . M3 . -37.0\n",
      "J5 . M4 . -2.0\n",
      "J5 . M2 . 13.0\n"
     ]
    }
   ],
   "source": [
    "problema1=LpProblem('Jobshop',LpMinimize)\n",
    "X=LpVariable.dicts('X',((j,i) for j in J for i in M ),lowBound=0,cat='Continuos')\n",
    "Y=LpVariable.dicts('Y',((v,q,i) for v in J for q in J for i in M),lowBound=0, upBound=1,cat='Binary')\n",
    "Emax=LpVariable('Emax', lowBound=0, cat='Continuos')\n",
    "\n",
    "for j in J:\n",
    "    h=O[j][len(O[j])-1]\n",
    "    problema1+=d[j]-X[j,h]-p[j][h]<=Emax\n",
    "\n",
    "for j in J:\n",
    "  for r in range(len(O[j])-1):\n",
    "      h=O[j][r]\n",
    "      h1=O[j][r+1]\n",
    "      problema1+=X[j,h]+p[j][h]<=X[j,h1]\n",
    "\n",
    "MM=1000\n",
    "for i in M:\n",
    "  for v in J:\n",
    "    for q in J:\n",
    "      if(q!=v):\n",
    "          problema1+=X[v,i]+p[v][i]<=X[q,i]+MM*(1-Y[v,q,i])\n",
    "          problema1+=X[q,i]+p[q][i]<=X[v,i]+MM*(Y[v,q,i])\n",
    "\n",
    "problema1+=Emax\n",
    "\n",
    "problema1.writeLP('e.lp')\n",
    "\n",
    "problema1.solve()\n",
    "\n",
    "print(\"Máxima Anticipación = \", value(problema1.objective))\n",
    "for j in J:\n",
    "    for r in O[j]:\n",
    "        i=O[j][r]\n",
    "        print(j,\".\",i,\".\", value(X[j,i]+p[j][i]-d[j]))"
   ]
  }
 ],
 "metadata": {
  "kernelspec": {
   "display_name": "Python 3",
   "language": "python",
   "name": "python3"
  },
  "language_info": {
   "codemirror_mode": {
    "name": "ipython",
    "version": 3
   },
   "file_extension": ".py",
   "mimetype": "text/x-python",
   "name": "python",
   "nbconvert_exporter": "python",
   "pygments_lexer": "ipython3",
   "version": "3.11.1"
  },
  "orig_nbformat": 4
 },
 "nbformat": 4,
 "nbformat_minor": 2
}
