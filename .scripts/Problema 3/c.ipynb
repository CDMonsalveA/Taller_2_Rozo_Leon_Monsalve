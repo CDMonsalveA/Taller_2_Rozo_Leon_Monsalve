{
 "cells": [
  {
   "cell_type": "code",
   "execution_count": 4,
   "metadata": {},
   "outputs": [
    {
     "name": "stdout",
     "output_type": "stream",
     "text": [
      "Requirement already satisfied: pulp in c:\\users\\home\\appdata\\local\\packages\\pythonsoftwarefoundation.python.3.11_qbz5n2kfra8p0\\localcache\\local-packages\\python311\\site-packages (2.7.0)Note: you may need to restart the kernel to use updated packages.\n",
      "\n"
     ]
    }
   ],
   "source": [
    "%pip install pulp"
   ]
  },
  {
   "cell_type": "code",
   "execution_count": 5,
   "metadata": {},
   "outputs": [],
   "source": [
    "from pulp import *\n",
    "# Definimos el problema\n",
    "# Jobshop para 7 máquina y 5 trabajos\n",
    "J=['J1','J2','J3','J4','J5']\n",
    "M=['M1','M2','M3','M4','M5','M6','M7']\n",
    "O=[['M1','M2','M4','M5','M6','M7'],\n",
    "   ['M6','M3','M5','M7','M2','M1'],\n",
    "   ['M3','M7','M6','M1','M5','M4'],\n",
    "   ['M5','M2','M7','M4','M1','M6'],\n",
    "   ['M7','M1','M5','M3','M4','M2']]\n",
    "# Tiempos de procesamiento [horas]\n",
    "p=[[12,8,0,18,7,12,12],\n",
    "   [16,11,6,0,14,9,6],\n",
    "   [3,0,12,14,8,14,14],\n",
    "   [15,13,0,8,9,15,16],\n",
    "   [10,15,19,6,13,0,11]]\n",
    "# due dates [horas]\n",
    "d=[[54],[78],[54],[85],[90]]\n",
    "# Creación de diccionarios\n",
    "d=makeDict([J],d) \n",
    "p=makeDict([J,M],p)\n",
    "O=makeDict([J,range(6)],O)"
   ]
  },
  {
   "cell_type": "code",
   "execution_count": 6,
   "metadata": {},
   "outputs": [
    {
     "name": "stdout",
     "output_type": "stream",
     "text": [
      "Optimal\n",
      "Function =  2*E_J1 + 2*E_J2 + 2*E_J3 + 2*E_J4 + 2*E_J5 + 5*T_J1 + 5*T_J2 + 5*T_J3 + 5*T_J4 + 5*T_J5 result =  290.0\n",
      "J1 . M1 . 0.0\n",
      "J1 . M2 . 22.0\n",
      "J1 . M4 . 30.0\n",
      "J1 . M5 . 53.0\n",
      "J1 . M6 . 60.0\n",
      "J1 . M7 . 72.0\n",
      "J2 . M6 . 0.0\n",
      "J2 . M3 . 12.0\n",
      "J2 . M5 . 18.0\n",
      "J2 . M7 . 42.0\n",
      "J2 . M2 . 48.0\n",
      "J2 . M1 . 71.0\n",
      "J3 . M3 . 0.0\n",
      "J3 . M7 . 12.0\n",
      "J3 . M6 . 26.0\n",
      "J3 . M1 . 40.0\n",
      "J3 . M5 . 45.0\n",
      "J3 . M4 . 56.0\n",
      "J4 . M5 . 0.0\n",
      "J4 . M2 . 9.0\n",
      "J4 . M7 . 26.0\n",
      "J4 . M4 . 48.0\n",
      "J4 . M1 . 56.0\n",
      "J4 . M6 . 72.0\n",
      "J5 . M7 . 0.0\n",
      "J5 . M1 . 22.0\n",
      "J5 . M5 . 32.0\n",
      "J5 . M3 . 51.0\n",
      "J5 . M4 . 70.0\n",
      "J5 . M2 . 76.0\n"
     ]
    }
   ],
   "source": [
    "# Minimizar las desviaciones respecto a la fecha de entrega, \n",
    "# suponga el costo de anticipación es de 2$/hora, y de entrega tardía de 5$/hora\n",
    "problema=LpProblem('Jobshop',LpMinimize)\n",
    "X=LpVariable.dicts('X',((j,i) for j in J for i in M ),lowBound=0,cat='Continuos')\n",
    "Y=LpVariable.dicts('Y',((v,q,i) for v in J for q in J for i in M),lowBound=0, upBound=1,cat='Binary')\n",
    "E=LpVariable.dicts('E',(j for j in J),lowBound=0,cat='Continuos')\n",
    "T=LpVariable.dicts('T',(j for j in J),lowBound=0,cat='Continuos')\n",
    "\n",
    "for j in J:\n",
    "    h=O[j][len(O[j])-1]\n",
    "    problema+=X[j,h]+p[j][h]-T[j]+E[j]==d[j]\n",
    "\n",
    "for j in J:\n",
    "  for r in range(len(O[j])-1):\n",
    "      h=O[j][r]\n",
    "      h1=O[j][r+1]\n",
    "      problema+=X[j,h]+p[j][h]<=X[j,h1]\n",
    "\n",
    "MM=1000\n",
    "for i in M:\n",
    "  for v in J:\n",
    "    for q in J:\n",
    "      if(q!=v):\n",
    "          problema+=X[v,i]+p[v][i]<=X[q,i]+MM*(1-Y[v,q,i])\n",
    "          problema+=X[q,i]+p[q][i]<=X[v,i]+MM*(Y[v,q,i])\n",
    "\n",
    "problema+= 2*lpSum(E[j] for j in J)+5*lpSum(T[j] for j in J)\n",
    "\n",
    "problema.writeLP('c.lp')\n",
    "\n",
    "problema.solve()\n",
    "print(LpStatus[problema.status])\n",
    "print(\"Function = \", problema.objective, \"result = \", value(problema.objective))\n",
    "for j in J:\n",
    "    for r in O[j]:\n",
    "        i=O[j][r]\n",
    "        print(j,\".\",i,\".\", value(X[j,i]))"
   ]
  }
 ],
 "metadata": {
  "kernelspec": {
   "display_name": "Python 3",
   "language": "python",
   "name": "python3"
  },
  "language_info": {
   "codemirror_mode": {
    "name": "ipython",
    "version": 3
   },
   "file_extension": ".py",
   "mimetype": "text/x-python",
   "name": "python",
   "nbconvert_exporter": "python",
   "pygments_lexer": "ipython3",
   "version": "3.11.1"
  },
  "orig_nbformat": 4
 },
 "nbformat": 4,
 "nbformat_minor": 2
}
