{
 "cells": [
  {
   "cell_type": "code",
   "execution_count": 55,
   "metadata": {},
   "outputs": [
    {
     "name": "stdout",
     "output_type": "stream",
     "text": [
      "B =  70\n",
      "B =  63\n",
      "B =  68\n",
      "B =  64\n",
      "B =  72\n"
     ]
    }
   ],
   "source": [
    "# Cristian David Monsalve Alfonso\n",
    "# 2023-3-21\n",
    "# Script that applies the E. Ignall and L. Schrage,\n",
    "# “Application of the Branch and Bound Technique to Some \n",
    "# Flow-Shop Scheduling Problems,” Operations Research, vol. 16,\n",
    "# no. 2, pp. 251–260, 1968, to the problem 2 of 3 machines and 4 jobs.\n",
    "\n",
    "# Importing libraries\n",
    "import numpy as np\n",
    "\n",
    "J = [\"J1\", \"J2\", \"J3\", \"J4\"] # Jobs\n",
    "M = [\"M1\", \"M2\", \"M3\"] # Machines\n",
    "P = np.array([[14,6,15], [8,11,4], [10,13,17], [16,15,5]]) # Processing times\n",
    "# Function that calculates the lower bound of the partial sequence\n",
    "def lower_bound(Jr_parcial_secuence, J_jobs, P_processing_times):\n",
    "    \"\"\"Function that calculates the lower bound of the partial sequence\n",
    "    Parameters\n",
    "    ----------\n",
    "    partial_sequence : list\n",
    "        Partial sequence of jobs.\n",
    "    P : numpy.ndarray\n",
    "        Processing times matrix.\n",
    "    Returns : float\n",
    "        Lower bound of the partial sequence.\n",
    "    ----------\n",
    "    Process\n",
    "    ----------\n",
    "    sets:\n",
    "    i in M\n",
    "    j in J\n",
    "    J = Set of jobs.\n",
    "    Jr = Set of jobs that are part of the partial sequence.\n",
    "    Jc = Set of jobs that are not part of the partial sequence.\n",
    "\n",
    "    1. Calculate the latest completion time of each machine.\n",
    "    if len(Jr) == 1:\n",
    "        - Latest completion time of machine 1: C1(Jr) = sum_{j in Jr} P_{j,1}\n",
    "        - Latest completion time of machine 2: C2(Jr) = sum_{j in Jr} P_{j,1} + sum_{j in Jr} P_{j,2}\n",
    "        - Latest completion time of machine 3: C3(Jr) = sum_{j in Jr} P_{j,1} + sum_{j in Jr} P_{j,2} + sum_{j in Jr} P_{j,3}\n",
    "    else\n",
    "        - Latest completion time of machine 1: C1(Jr) = sum_{j in Jr[:-1]} P_{j,1} + P_{Jr[-1],1}\n",
    "        - Latest completion time of machine 2: C2(Jr) = max(C1(Jr)+P_{Jr[-1],2}, sum_{j in Jr[:-1]} P_{j,1} + P_{Jr[-1],2})\n",
    "        - Latest completion time of machine 3: C3(Jr) = max(C2(Jr)+P_{Jr[-1],3}, sum_{j in Jr[:-1]} P_{j,1} + P_{Jr[-1],3})\n",
    "\n",
    "    2. Calculate the bound of the partial sequence on each machine.\n",
    "    - Bound of the partial sequence on machine 1: B1(Jr, Jc) = C1(Jr) + sum_{j in Jc} P_{j,1} + min_{j in Jc}(P_{j,2}+P_{j,3})\n",
    "    - Bound of the partial sequence on machine 2: B2(Jr, Jc) = C2(Jr) + sum_{j in Jc} P_{j,2} + min_{j in Jc}(P_{j,3})\n",
    "    - Bound of the partial sequence on machine 3: B3(Jr, Jc) = C3(Jr) + sum_{j in Jc} P_{j,3}\n",
    "    3. Calculate the lower bound of the partial sequence.\n",
    "    - Lower bound of the partial sequence: B(Jr, Jc) = max(B1(Jr, Jc), B2(Jr, Jc), B3(Jr, Jc))\n",
    "    ----------\n",
    "    \"\"\"\n",
    "    Jr = Jr_parcial_secuence\n",
    "    P = P_processing_times\n",
    "    J = J_jobs\n",
    "    Jc = [j for j in J if j not in Jr]\n",
    "    Pr = P[[J.index(j) for j in Jr]]\n",
    "    Pc = P[[J.index(j) for j in Jc]]\n",
    "    if len(Jr) == 1:\n",
    "        C1 = np.sum(Pr[:,0])\n",
    "        C2 = C1 + np.sum(Pr[:,1])\n",
    "        C3 = C2 + np.sum(Pr[:,2])\n",
    "    else:\n",
    "        C1 = np.sum(Pr[:-1,0]) + Pr[-1,0]\n",
    "        C2 = max(C1 + Pr[-1,1], np.sum(Pr[0,:-1]) + np.sum(Pr[1:,2]))\n",
    "        C3 = max(C2 + Pr[-1,2], np.sum(Pr[0,:]) + np.sum(Pr[1:,2]))\n",
    "\n",
    "    B1 = C1 + np.sum(Pc[:,0]) + np.min(Pc[:,1]+Pc[:,2])\n",
    "    B2 = C2 + np.sum(Pc[:,1]) + np.min(Pc[:,2])\n",
    "    B3 = C3 + np.sum(Pc[:,2])\n",
    "    #print(\"Jr = \", Jr)\n",
    "    #print(\"Jc = \", Jc)\n",
    "    #print(\"Pr = \", Pr)\n",
    "    #print(\"Pc = \", Pc)\n",
    "    #print(\"C1 = \", C1)\n",
    "    #print(\"C2 = \", \" max(\" , C1, \"+\", Pr[-1,1], \",\", Pr[0,:-1], \"+\", Pr[1:,2], \") = \", C2)\n",
    "    #print(\"C3 = \", \" max(\" , C2, \"+\", Pr[-1,2], \",\", Pr[0,:], \"+\", Pr[1:,2], \") = \", C3)\n",
    "    #print(\"B1 = \", B1)\n",
    "    #print(\"B2 = \", B2)\n",
    "    #print(\"B3 = \", B3)\n",
    "    print(\"B = \", max(B1, B2, B3))\n",
    "\n",
    "lower_bound([\"J3\",\"J1\",\"J4\"], J, P)\n",
    "# get lower bound for each job\n",
    "for j in J:\n",
    "    lower_bound([j], J, P)\n",
    "\n"
   ]
  },
  {
   "cell_type": "code",
   "execution_count": 47,
   "metadata": {},
   "outputs": [
    {
     "data": {
      "text/plain": [
       "59"
      ]
     },
     "execution_count": 47,
     "metadata": {},
     "output_type": "execute_result"
    }
   ],
   "source": [
    "# Para 3.2 C2 = max((10+8)+11, (10+13)+11) = \n",
    "max((10+8)+11, (10+13)+11)\n",
    "# Para 3.2 C3 = max(C2+4, (10+13+17)+4)\n",
    "max(34+4, (10+13+17)+4)\n",
    "10+13+17+15+4"
   ]
  },
  {
   "cell_type": "code",
   "execution_count": null,
   "metadata": {},
   "outputs": [],
   "source": []
  }
 ],
 "metadata": {
  "kernelspec": {
   "display_name": "Python 3",
   "language": "python",
   "name": "python3"
  },
  "language_info": {
   "codemirror_mode": {
    "name": "ipython",
    "version": 3
   },
   "file_extension": ".py",
   "mimetype": "text/x-python",
   "name": "python",
   "nbconvert_exporter": "python",
   "pygments_lexer": "ipython3",
   "version": "3.11.1"
  },
  "orig_nbformat": 4
 },
 "nbformat": 4,
 "nbformat_minor": 2
}
